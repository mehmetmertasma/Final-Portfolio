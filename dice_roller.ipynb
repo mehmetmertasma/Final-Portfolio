import random
import pandas as pd
import plotly.express as px

def roll_dice():
    return random.randint(1, 6)

def play_dice():
    rolls = []
    rolling = True
    print("Welcome to the Dice Roller!")
    while rolling:
        result = roll_dice()
        print(f"You rolled a {result}!")
        rolls.append(result)
        choice = input("Do you want to roll again? (yes/no): ").lower()
        if choice != 'yes':
            rolling = False
    print("Thanks for playing! Now visualizing your results...")
    return rolls


def visualize_rolls(rolls):
    df = pd.DataFrame(rolls, columns=['Rolls'])
    fig = px.histogram(df, x='Rolls', title='Distribution of Dice Rolls',
                       labels={'Rolls': 'Dice Value'},
                       nbins=6)
    fig.update_layout(xaxis_title='Dice of value', yaxis_title='count', bargap=0.2)
    fig.show()
# Start the dice roller and collect the results
rolls = play_dice()

# Visualize the results
visualize_rolls(rolls)

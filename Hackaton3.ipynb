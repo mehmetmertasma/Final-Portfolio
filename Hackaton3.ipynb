{
 "cells": [
  {
   "cell_type": "code",
   "execution_count": 24,
   "id": "71196465-71b2-4a27-8480-c65ea0a74b6b",
   "metadata": {
    "tags": []
   },
   "outputs": [
    {
     "name": "stdout",
     "output_type": "stream",
     "text": [
      "\n",
      "Student and their Grade\n",
      "------------------------\n",
      "1. Add a student\n",
      "2. Update a students grade\n",
      "3. Display all grades\n",
      "4. Calculate average of the grades\n",
      "5. Find a students grade\n",
      "6. Quit program\n",
      "\n"
     ]
    },
    {
     "name": "stdin",
     "output_type": "stream",
     "text": [
      "Enter your choice:  1\n",
      "Enter a name:  Mert\n",
      "Enter a number grade:  98\n"
     ]
    },
    {
     "name": "stdout",
     "output_type": "stream",
     "text": [
      "\n",
      "Student and their Grade\n",
      "------------------------\n",
      "1. Add a student\n",
      "2. Update a students grade\n",
      "3. Display all grades\n",
      "4. Calculate average of the grades\n",
      "5. Find a students grade\n",
      "6. Quit program\n",
      "\n"
     ]
    },
    {
     "name": "stdin",
     "output_type": "stream",
     "text": [
      "Enter your choice:  1\n",
      "Enter a name:  Emily\n",
      "Enter a number grade:  80\n"
     ]
    },
    {
     "name": "stdout",
     "output_type": "stream",
     "text": [
      "\n",
      "Student and their Grade\n",
      "------------------------\n",
      "1. Add a student\n",
      "2. Update a students grade\n",
      "3. Display all grades\n",
      "4. Calculate average of the grades\n",
      "5. Find a students grade\n",
      "6. Quit program\n",
      "\n"
     ]
    },
    {
     "name": "stdin",
     "output_type": "stream",
     "text": [
      "Enter your choice:  1\n",
      "Enter a name:  Dixie\n",
      "Enter a number grade:  75\n"
     ]
    },
    {
     "name": "stdout",
     "output_type": "stream",
     "text": [
      "\n",
      "Student and their Grade\n",
      "------------------------\n",
      "1. Add a student\n",
      "2. Update a students grade\n",
      "3. Display all grades\n",
      "4. Calculate average of the grades\n",
      "5. Find a students grade\n",
      "6. Quit program\n",
      "\n"
     ]
    },
    {
     "name": "stdin",
     "output_type": "stream",
     "text": [
      "Enter your choice:  3\n"
     ]
    },
    {
     "name": "stdout",
     "output_type": "stream",
     "text": [
      "{'Sarah': 98, 'Emily': 80, 'Dixie': 75}\n",
      "\n",
      "Student and their Grade\n",
      "------------------------\n",
      "1. Add a student\n",
      "2. Update a students grade\n",
      "3. Display all grades\n",
      "4. Calculate average of the grades\n",
      "5. Find a students grade\n",
      "6. Quit program\n",
      "\n"
     ]
    },
    {
     "name": "stdin",
     "output_type": "stream",
     "text": [
      "Enter your choice:  2\n",
      "Enter a name:  Sarah\n",
      "Enter a new number grade:  95\n"
     ]
    },
    {
     "name": "stdout",
     "output_type": "stream",
     "text": [
      "\n",
      "Student and their Grade\n",
      "------------------------\n",
      "1. Add a student\n",
      "2. Update a students grade\n",
      "3. Display all grades\n",
      "4. Calculate average of the grades\n",
      "5. Find a students grade\n",
      "6. Quit program\n",
      "\n"
     ]
    },
    {
     "name": "stdin",
     "output_type": "stream",
     "text": [
      "Enter your choice:  3\n"
     ]
    },
    {
     "name": "stdout",
     "output_type": "stream",
     "text": [
      "{'Sarah': 95, 'Emily': 80, 'Dixie': 75}\n",
      "\n",
      "Student and their Grade\n",
      "------------------------\n",
      "1. Add a student\n",
      "2. Update a students grade\n",
      "3. Display all grades\n",
      "4. Calculate average of the grades\n",
      "5. Find a students grade\n",
      "6. Quit program\n",
      "\n"
     ]
    },
    {
     "name": "stdin",
     "output_type": "stream",
     "text": [
      "Enter your choice:  4\n"
     ]
    },
    {
     "name": "stdout",
     "output_type": "stream",
     "text": [
      "The average of all the grades is 0.0.\n",
      "\n",
      "Student and their Grade\n",
      "------------------------\n",
      "1. Add a student\n",
      "2. Update a students grade\n",
      "3. Display all grades\n",
      "4. Calculate average of the grades\n",
      "5. Find a students grade\n",
      "6. Quit program\n",
      "\n"
     ]
    },
    {
     "name": "stdin",
     "output_type": "stream",
     "text": [
      "Enter your choice:  5\n",
      "Enter a name:  Emily\n"
     ]
    },
    {
     "name": "stdout",
     "output_type": "stream",
     "text": [
      "80\n",
      "\n",
      "Student and their Grade\n",
      "------------------------\n",
      "1. Add a student\n",
      "2. Update a students grade\n",
      "3. Display all grades\n",
      "4. Calculate average of the grades\n",
      "5. Find a students grade\n",
      "6. Quit program\n",
      "\n"
     ]
    },
    {
     "name": "stdin",
     "output_type": "stream",
     "text": [
      "Enter your choice:  6\n"
     ]
    }
   ],
   "source": [
    "#Mert Asma\n",
    "\n",
    "#inititalize all the options\n",
    "ADD = 1\n",
    "UPDATE = 2\n",
    "DISPLAY = 3\n",
    "AVERAGE = 4\n",
    "FIND = 5\n",
    "QUIT = 6\n",
    "\n",
    "def main():\n",
    "    #create the dictionary\n",
    "    student = {}\n",
    "    \n",
    "    choice = 0\n",
    "    \n",
    "    #it will contiue running while the option is not to quit the program\n",
    "    while choice != QUIT:\n",
    "        choice = get_choice()\n",
    "        \n",
    "        #run through each function\n",
    "        if choice == ADD:\n",
    "            add(student)\n",
    "        elif choice == UPDATE:\n",
    "            update(student)\n",
    "        elif choice == DISPLAY:\n",
    "            display(student)\n",
    "        elif choice == AVERAGE:\n",
    "            average(student)\n",
    "        elif choice == FIND:\n",
    "            find(student)\n",
    "            \n",
    "\n",
    "def get_choice():\n",
    "    print()\n",
    "    print('Student and their Grade')\n",
    "    print('------------------------')\n",
    "    print('1. Add a student')\n",
    "    print('2. Update a students grade')\n",
    "    print('3. Display all grades')\n",
    "    print('4. Calculate average of the grades')\n",
    "    print('5. Find a students grade')\n",
    "    print('6. Quit program')\n",
    "    print()\n",
    "    \n",
    "    #get the users choice\n",
    "    choice = int(input('Enter your choice: '))\n",
    "    \n",
    "    #make sure it is an option that is valid\n",
    "    while choice < ADD or choice > QUIT:\n",
    "        choice = int(input('Enter a valid choice: '))\n",
    "        \n",
    "    return choice\n",
    "\n",
    "\n",
    "def add(student):\n",
    "    #create a new student in the dictionary\n",
    "    name = input('Enter a name: ')\n",
    "    grade = int(input('Enter a number grade: '))\n",
    "    grades = []\n",
    "    \n",
    "    #make sure it wasn't in ther before then you can add the grade for the new student\n",
    "    if name not in student:\n",
    "        student[name] = grade\n",
    "        \n",
    "        grades.append(grade)\n",
    "    else:\n",
    "        print('That entry already exists.')\n",
    "        \n",
    "        \n",
    "def update(student):\n",
    "    #serch the student's name\n",
    "    name = input('Enter a name: ')\n",
    "    grades = []\n",
    "    \n",
    "    #enter a new grade for them\n",
    "    if name in student:\n",
    "        grade = int(input('Enter a new number grade: '))\n",
    "        \n",
    "        student[name] = grade\n",
    "        \n",
    "        grades.append(grade)\n",
    "    else:\n",
    "        print('That name is not found.')\n",
    "        \n",
    "        \n",
    "def display(student):\n",
    "    print(student)\n",
    "    #show all the students with their corresponding grade\n",
    "\n",
    "    \n",
    "def average(student):\n",
    "    total = 0\n",
    "    grades = []\n",
    "    \n",
    "    #to go through each part and add it to the total\n",
    "    for grade in grades:\n",
    "        total+=grades\n",
    "    \n",
    "    #get the length of the all the students\n",
    "    num = len(student)\n",
    "    #calculate the average\n",
    "    cal_avg = total/num\n",
    "    \n",
    "    print(f'The average of all the grades is {cal_avg}.')\n",
    "    \n",
    "    \n",
    "    \n",
    "def find(student):\n",
    "    #get the student'sname\n",
    "    name = input('Enter a name: ')\n",
    "    \n",
    "    #print their specific grade number\n",
    "    print(student.get(name, 'not found'))\n",
    "    \n",
    "    \n",
    "if __name__ == '__main__':\n",
    "    main()\n",
    "\n",
    "#I wrote this for my final in spring of 24"
   ]
  },
  {
   "cell_type": "code",
   "execution_count": null,
   "id": "8304e2f8-92ad-4f4f-9ee2-13a0df5a3f3f",
   "metadata": {},
   "outputs": [],
   "source": []
  }
 ],
 "metadata": {
  "kernelspec": {
   "display_name": "Python 3 (ipykernel)",
   "language": "python",
   "name": "python3"
  },
  "language_info": {
   "codemirror_mode": {
    "name": "ipython",
    "version": 3
   },
   "file_extension": ".py",
   "mimetype": "text/x-python",
   "name": "python",
   "nbconvert_exporter": "python",
   "pygments_lexer": "ipython3",
   "version": "3.11.5"
  }
 },
 "nbformat": 4,
 "nbformat_minor": 5
}
